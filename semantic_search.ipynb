{
 "cells": [
  {
   "cell_type": "markdown",
   "id": "ed0a912e",
   "metadata": {},
   "source": [
    "## Overview\n",
    "Semantic searching for UC Davis courses using OpenAI's embedding model"
   ]
  },
  {
   "cell_type": "code",
   "execution_count": 1,
   "id": "1c8fb868",
   "metadata": {},
   "outputs": [],
   "source": [
    "import json\n",
    "import pandas as pd"
   ]
  },
  {
   "cell_type": "markdown",
   "id": "a20eb402",
   "metadata": {},
   "source": [
    "### Convert courses_data.json into a csv file \n",
    "(Skip this step if you already have course data in csv format)"
   ]
  },
  {
   "cell_type": "code",
   "execution_count": 20,
   "id": "8b3c12ab",
   "metadata": {
    "scrolled": true
   },
   "outputs": [
    {
     "name": "stdout",
     "output_type": "stream",
     "text": [
      "Total Subjects = 216\n"
     ]
    }
   ],
   "source": [
    "# Load json data\n",
    "with open(\"course_data.json\") as f:\n",
    "    data = json.load(f)\n",
    "\n",
    "print(f'Total Subjects = {len(data)}')"
   ]
  },
  {
   "cell_type": "code",
   "execution_count": 9,
   "id": "e96512da",
   "metadata": {},
   "outputs": [],
   "source": [
    "# Create an empty dataframe\n",
    "df = pd.DataFrame(columns=[\"code\",\"name\",\"credits\",\"description\",\"prerequisites\"])\n",
    "\n",
    "# Iterate through course_data.json and store each entry into the dataframe\n",
    "for subject in data:\n",
    "    for course_code in subject:\n",
    "        course_list = subject[course_code]\n",
    "        for course in course_list:\n",
    "            df = pd.concat([df, pd.DataFrame(course, index=[0])], ignore_index=True)"
   ]
  },
  {
   "cell_type": "code",
   "execution_count": 16,
   "id": "81d8655e",
   "metadata": {
    "scrolled": true
   },
   "outputs": [
    {
     "data": {
      "text/html": [
       "<div>\n",
       "<style scoped>\n",
       "    .dataframe tbody tr th:only-of-type {\n",
       "        vertical-align: middle;\n",
       "    }\n",
       "\n",
       "    .dataframe tbody tr th {\n",
       "        vertical-align: top;\n",
       "    }\n",
       "\n",
       "    .dataframe thead th {\n",
       "        text-align: right;\n",
       "    }\n",
       "</style>\n",
       "<table border=\"1\" class=\"dataframe\">\n",
       "  <thead>\n",
       "    <tr style=\"text-align: right;\">\n",
       "      <th></th>\n",
       "      <th>code</th>\n",
       "      <th>name</th>\n",
       "      <th>credits</th>\n",
       "      <th>description</th>\n",
       "      <th>prerequisites</th>\n",
       "    </tr>\n",
       "  </thead>\n",
       "  <tbody>\n",
       "    <tr>\n",
       "      <th>0</th>\n",
       "      <td>EAE 001</td>\n",
       "      <td>— Introduction to Aerospace Science Engineering</td>\n",
       "      <td>(1 unit)</td>\n",
       "      <td>Course Description: Description of the field o...</td>\n",
       "      <td></td>\n",
       "    </tr>\n",
       "    <tr>\n",
       "      <th>1</th>\n",
       "      <td>EAE 010</td>\n",
       "      <td>— From the Wright Brothers to Drones &amp; Quadcop...</td>\n",
       "      <td>(2 units)</td>\n",
       "      <td>Course Description: History of aircraft and it...</td>\n",
       "      <td></td>\n",
       "    </tr>\n",
       "    <tr>\n",
       "      <th>2</th>\n",
       "      <td>EAE 099</td>\n",
       "      <td>— Special Study for Undergraduates</td>\n",
       "      <td>(1-5 units)</td>\n",
       "      <td>Course Description: Special study for undergra...</td>\n",
       "      <td>Prerequisite(s): Consent of instructor; lower ...</td>\n",
       "    </tr>\n",
       "    <tr>\n",
       "      <th>3</th>\n",
       "      <td>EAE 126</td>\n",
       "      <td>— Theoretical &amp; Computational Aerodynamics</td>\n",
       "      <td>(4 units)</td>\n",
       "      <td>Course Description: Development of general equ...</td>\n",
       "      <td>Prerequisite(s): ENG 103 C- or better; ENG 105...</td>\n",
       "    </tr>\n",
       "    <tr>\n",
       "      <th>4</th>\n",
       "      <td>EAE 127</td>\n",
       "      <td>— Applied Aircraft Aerodynamics</td>\n",
       "      <td>(4 units)</td>\n",
       "      <td>This version has ended; see updated course, be...</td>\n",
       "      <td>Prerequisite(s): EME 106 C- or better.</td>\n",
       "    </tr>\n",
       "  </tbody>\n",
       "</table>\n",
       "</div>"
      ],
      "text/plain": [
       "      code                                               name      credits   \n",
       "0  EAE 001    — Introduction to Aerospace Science Engineering     (1 unit)  \\\n",
       "1  EAE 010  — From the Wright Brothers to Drones & Quadcop...    (2 units)   \n",
       "2  EAE 099                 — Special Study for Undergraduates  (1-5 units)   \n",
       "3  EAE 126         — Theoretical & Computational Aerodynamics    (4 units)   \n",
       "4  EAE 127                    — Applied Aircraft Aerodynamics    (4 units)   \n",
       "\n",
       "                                         description   \n",
       "0  Course Description: Description of the field o...  \\\n",
       "1  Course Description: History of aircraft and it...   \n",
       "2  Course Description: Special study for undergra...   \n",
       "3  Course Description: Development of general equ...   \n",
       "4  This version has ended; see updated course, be...   \n",
       "\n",
       "                                       prerequisites  \n",
       "0                                                     \n",
       "1                                                     \n",
       "2  Prerequisite(s): Consent of instructor; lower ...  \n",
       "3  Prerequisite(s): ENG 103 C- or better; ENG 105...  \n",
       "4             Prerequisite(s): EME 106 C- or better.  "
      ]
     },
     "execution_count": 16,
     "metadata": {},
     "output_type": "execute_result"
    }
   ],
   "source": [
    "df.head()"
   ]
  },
  {
   "cell_type": "code",
   "execution_count": 18,
   "id": "0dc295fb",
   "metadata": {},
   "outputs": [
    {
     "name": "stdout",
     "output_type": "stream",
     "text": [
      "Total Courses = 10024\n"
     ]
    }
   ],
   "source": [
    "print(f'Total Courses = {len(df)}')"
   ]
  },
  {
   "cell_type": "code",
   "execution_count": 13,
   "id": "aa97cbc0",
   "metadata": {},
   "outputs": [],
   "source": [
    "# convert the DataFrame to a CSV file\n",
    "df.to_csv('davis_courses.csv', index=False)"
   ]
  },
  {
   "cell_type": "markdown",
   "id": "002e7ab7",
   "metadata": {},
   "source": [
    "### Generate embeddings\n",
    "Get embeddings for all courses using OpenAI's 'get_embedding' function"
   ]
  },
  {
   "cell_type": "code",
   "execution_count": 2,
   "id": "53fb9ecf",
   "metadata": {},
   "outputs": [],
   "source": [
    "import os\n",
    "from dotenv import load_dotenv\n",
    "load_dotenv(override=True)\n",
    "\n",
    "import openai\n",
    "# Create .env file with your secret key 'OPENAI' or replace 'os.getenv('OPENAI')' with your secret key\n",
    "openai.api_key = os.getenv('OPENAI')"
   ]
  },
  {
   "cell_type": "code",
   "execution_count": 3,
   "id": "0b7781b2",
   "metadata": {},
   "outputs": [],
   "source": [
    "# Read course data from davis_courses.csv\n",
    "df = pd.read_csv('davis_courses.csv')"
   ]
  },
  {
   "cell_type": "code",
   "execution_count": 4,
   "id": "9019a1b5",
   "metadata": {},
   "outputs": [
    {
     "data": {
      "text/html": [
       "<div>\n",
       "<style scoped>\n",
       "    .dataframe tbody tr th:only-of-type {\n",
       "        vertical-align: middle;\n",
       "    }\n",
       "\n",
       "    .dataframe tbody tr th {\n",
       "        vertical-align: top;\n",
       "    }\n",
       "\n",
       "    .dataframe thead th {\n",
       "        text-align: right;\n",
       "    }\n",
       "</style>\n",
       "<table border=\"1\" class=\"dataframe\">\n",
       "  <thead>\n",
       "    <tr style=\"text-align: right;\">\n",
       "      <th></th>\n",
       "      <th>code</th>\n",
       "      <th>name</th>\n",
       "      <th>credits</th>\n",
       "      <th>description</th>\n",
       "      <th>prerequisites</th>\n",
       "    </tr>\n",
       "  </thead>\n",
       "  <tbody>\n",
       "    <tr>\n",
       "      <th>0</th>\n",
       "      <td>EAE 001</td>\n",
       "      <td>— Introduction to Aerospace Science Engineering</td>\n",
       "      <td>(1 unit)</td>\n",
       "      <td>Course Description: Description of the field o...</td>\n",
       "      <td>NaN</td>\n",
       "    </tr>\n",
       "    <tr>\n",
       "      <th>1</th>\n",
       "      <td>EAE 010</td>\n",
       "      <td>— From the Wright Brothers to Drones &amp; Quadcop...</td>\n",
       "      <td>(2 units)</td>\n",
       "      <td>Course Description: History of aircraft and it...</td>\n",
       "      <td>NaN</td>\n",
       "    </tr>\n",
       "    <tr>\n",
       "      <th>2</th>\n",
       "      <td>EAE 099</td>\n",
       "      <td>— Special Study for Undergraduates</td>\n",
       "      <td>(1-5 units)</td>\n",
       "      <td>Course Description: Special study for undergra...</td>\n",
       "      <td>Prerequisite(s): Consent of instructor; lower ...</td>\n",
       "    </tr>\n",
       "    <tr>\n",
       "      <th>3</th>\n",
       "      <td>EAE 126</td>\n",
       "      <td>— Theoretical &amp; Computational Aerodynamics</td>\n",
       "      <td>(4 units)</td>\n",
       "      <td>Course Description: Development of general equ...</td>\n",
       "      <td>Prerequisite(s): ENG 103 C- or better; ENG 105...</td>\n",
       "    </tr>\n",
       "    <tr>\n",
       "      <th>4</th>\n",
       "      <td>EAE 127</td>\n",
       "      <td>— Applied Aircraft Aerodynamics</td>\n",
       "      <td>(4 units)</td>\n",
       "      <td>This version has ended; see updated course, be...</td>\n",
       "      <td>Prerequisite(s): EME 106 C- or better.</td>\n",
       "    </tr>\n",
       "  </tbody>\n",
       "</table>\n",
       "</div>"
      ],
      "text/plain": [
       "      code                                               name      credits   \n",
       "0  EAE 001    — Introduction to Aerospace Science Engineering     (1 unit)  \\\n",
       "1  EAE 010  — From the Wright Brothers to Drones & Quadcop...    (2 units)   \n",
       "2  EAE 099                 — Special Study for Undergraduates  (1-5 units)   \n",
       "3  EAE 126         — Theoretical & Computational Aerodynamics    (4 units)   \n",
       "4  EAE 127                    — Applied Aircraft Aerodynamics    (4 units)   \n",
       "\n",
       "                                         description   \n",
       "0  Course Description: Description of the field o...  \\\n",
       "1  Course Description: History of aircraft and it...   \n",
       "2  Course Description: Special study for undergra...   \n",
       "3  Course Description: Development of general equ...   \n",
       "4  This version has ended; see updated course, be...   \n",
       "\n",
       "                                       prerequisites  \n",
       "0                                                NaN  \n",
       "1                                                NaN  \n",
       "2  Prerequisite(s): Consent of instructor; lower ...  \n",
       "3  Prerequisite(s): ENG 103 C- or better; ENG 105...  \n",
       "4             Prerequisite(s): EME 106 C- or better.  "
      ]
     },
     "execution_count": 4,
     "metadata": {},
     "output_type": "execute_result"
    }
   ],
   "source": [
    "df.head()"
   ]
  },
  {
   "cell_type": "code",
   "execution_count": 5,
   "id": "efeede2b",
   "metadata": {},
   "outputs": [
    {
     "data": {
      "text/html": [
       "<div>\n",
       "<style scoped>\n",
       "    .dataframe tbody tr th:only-of-type {\n",
       "        vertical-align: middle;\n",
       "    }\n",
       "\n",
       "    .dataframe tbody tr th {\n",
       "        vertical-align: top;\n",
       "    }\n",
       "\n",
       "    .dataframe thead th {\n",
       "        text-align: right;\n",
       "    }\n",
       "</style>\n",
       "<table border=\"1\" class=\"dataframe\">\n",
       "  <thead>\n",
       "    <tr style=\"text-align: right;\">\n",
       "      <th></th>\n",
       "      <th>code</th>\n",
       "      <th>name</th>\n",
       "      <th>credits</th>\n",
       "      <th>description</th>\n",
       "      <th>prerequisites</th>\n",
       "      <th>combined</th>\n",
       "    </tr>\n",
       "  </thead>\n",
       "  <tbody>\n",
       "    <tr>\n",
       "      <th>0</th>\n",
       "      <td>EAE 001</td>\n",
       "      <td>— Introduction to Aerospace Science Engineering</td>\n",
       "      <td>(1 unit)</td>\n",
       "      <td>Course Description: Description of the field o...</td>\n",
       "      <td>NaN</td>\n",
       "      <td>code: EAE 001; name: — Introduction to Aerospa...</td>\n",
       "    </tr>\n",
       "    <tr>\n",
       "      <th>1</th>\n",
       "      <td>EAE 010</td>\n",
       "      <td>— From the Wright Brothers to Drones &amp; Quadcop...</td>\n",
       "      <td>(2 units)</td>\n",
       "      <td>Course Description: History of aircraft and it...</td>\n",
       "      <td>NaN</td>\n",
       "      <td>code: EAE 010; name: — From the Wright Brother...</td>\n",
       "    </tr>\n",
       "    <tr>\n",
       "      <th>2</th>\n",
       "      <td>EAE 099</td>\n",
       "      <td>— Special Study for Undergraduates</td>\n",
       "      <td>(1-5 units)</td>\n",
       "      <td>Course Description: Special study for undergra...</td>\n",
       "      <td>Prerequisite(s): Consent of instructor; lower ...</td>\n",
       "      <td>code: EAE 099; name: — Special Study for Under...</td>\n",
       "    </tr>\n",
       "  </tbody>\n",
       "</table>\n",
       "</div>"
      ],
      "text/plain": [
       "      code                                               name      credits   \n",
       "0  EAE 001    — Introduction to Aerospace Science Engineering     (1 unit)  \\\n",
       "1  EAE 010  — From the Wright Brothers to Drones & Quadcop...    (2 units)   \n",
       "2  EAE 099                 — Special Study for Undergraduates  (1-5 units)   \n",
       "\n",
       "                                         description   \n",
       "0  Course Description: Description of the field o...  \\\n",
       "1  Course Description: History of aircraft and it...   \n",
       "2  Course Description: Special study for undergra...   \n",
       "\n",
       "                                       prerequisites   \n",
       "0                                                NaN  \\\n",
       "1                                                NaN   \n",
       "2  Prerequisite(s): Consent of instructor; lower ...   \n",
       "\n",
       "                                            combined  \n",
       "0  code: EAE 001; name: — Introduction to Aerospa...  \n",
       "1  code: EAE 010; name: — From the Wright Brother...  \n",
       "2  code: EAE 099; name: — Special Study for Under...  "
      ]
     },
     "execution_count": 5,
     "metadata": {},
     "output_type": "execute_result"
    }
   ],
   "source": [
    "# Create a cobined column\n",
    "df[\"combined\"] = (\n",
    "    \"code: \" + df.code.str.strip() + \"; name: \" + df.name.str.strip() + \n",
    "    \"; credits: \" + df.credits.str.strip() + \n",
    "    \"; description: \" + df.description.str.strip() +\n",
    "    \"; prerequisites: \" + df.prerequisites.fillna('').str.strip()\n",
    ")\n",
    "\n",
    "df.head(3)"
   ]
  },
  {
   "cell_type": "code",
   "execution_count": null,
   "id": "b9309aba",
   "metadata": {},
   "outputs": [],
   "source": [
    "from openai.embeddings_utils import get_embedding\n",
    "df['embedding'] = df.combined.apply(lambda x: get_embedding(x, engine='text-embedding-ada-002'))"
   ]
  },
  {
   "cell_type": "code",
   "execution_count": null,
   "id": "9121ecef",
   "metadata": {},
   "outputs": [],
   "source": [
    "df.head(3)"
   ]
  }
 ],
 "metadata": {
  "kernelspec": {
   "display_name": "Python 3 (ipykernel)",
   "language": "python",
   "name": "python3"
  },
  "language_info": {
   "codemirror_mode": {
    "name": "ipython",
    "version": 3
   },
   "file_extension": ".py",
   "mimetype": "text/x-python",
   "name": "python",
   "nbconvert_exporter": "python",
   "pygments_lexer": "ipython3",
   "version": "3.10.11"
  }
 },
 "nbformat": 4,
 "nbformat_minor": 5
}
